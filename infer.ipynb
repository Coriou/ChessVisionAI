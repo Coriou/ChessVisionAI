{
 "cells": [
  {
   "cell_type": "code",
   "execution_count": 2,
   "metadata": {},
   "outputs": [],
   "source": [
    "import tensorflow as tf\n",
    "import numpy as np\n",
    "import os\n",
    "from config import class_labels\n",
    "from utils import preprocess_image"
   ]
  },
  {
   "cell_type": "code",
   "execution_count": 3,
   "metadata": {},
   "outputs": [],
   "source": [
    "# Load the trained model\n",
    "model_name = \"chess_classifier_10k\"\n",
    "model_path = os.path.join(\"models\", f\"{model_name}.keras\")\n",
    "model = tf.keras.models.load_model(model_path)"
   ]
  },
  {
   "cell_type": "code",
   "execution_count": 4,
   "metadata": {},
   "outputs": [],
   "source": [
    "def predict_image(image_path, model):\n",
    "    img_array = preprocess_image(image_path)\n",
    "    predictions = model.predict(img_array)\n",
    "    predicted_class = np.argmax(predictions, axis=1)[0]\n",
    "\n",
    "    return predicted_class, predictions"
   ]
  },
  {
   "cell_type": "code",
   "execution_count": 5,
   "metadata": {},
   "outputs": [
    {
     "name": "stdout",
     "output_type": "stream",
     "text": [
      "\u001b[1m1/1\u001b[0m \u001b[32m━━━━━━━━━━━━━━━━━━━━\u001b[0m\u001b[37m\u001b[0m \u001b[1m1s\u001b[0m 1s/step\n",
      "Predicted Class: empty\n",
      "Prediction Probabilities: [[6.3424411e-14 6.8023738e-09 4.4247174e-13 7.7701152e-08 1.1452939e-09\n",
      "  4.2940842e-09 9.9999988e-01 8.9466843e-17 1.7364006e-16 1.9507150e-18\n",
      "  8.3392165e-12 2.9428276e-14 4.6819956e-14]]\n"
     ]
    }
   ],
   "source": [
    "test_image_path = \"dataset/test/empty/augmented_00132e8f41494b3eba1a985e1a505bdf.png\"\n",
    "predicted_class, predictions = predict_image(test_image_path, model)\n",
    "\n",
    "print(f\"Predicted Class: {class_labels[predicted_class]}\")\n",
    "print(f\"Prediction Probabilities: {predictions}\")"
   ]
  },
  {
   "cell_type": "code",
   "execution_count": null,
   "metadata": {},
   "outputs": [],
   "source": []
  }
 ],
 "metadata": {
  "kernelspec": {
   "display_name": ".venv",
   "language": "python",
   "name": "python3"
  },
  "language_info": {
   "codemirror_mode": {
    "name": "ipython",
    "version": 3
   },
   "file_extension": ".py",
   "mimetype": "text/x-python",
   "name": "python",
   "nbconvert_exporter": "python",
   "pygments_lexer": "ipython3",
   "version": "3.11.9"
  }
 },
 "nbformat": 4,
 "nbformat_minor": 2
}
