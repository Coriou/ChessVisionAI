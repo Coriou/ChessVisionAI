{
 "cells": [
  {
   "cell_type": "code",
   "execution_count": 20,
   "metadata": {},
   "outputs": [],
   "source": [
    "import tensorflow as tf\n",
    "from tensorflow.keras.preprocessing.image import load_img, img_to_array # type: ignore\n",
    "import numpy as np\n",
    "import os"
   ]
  },
  {
   "cell_type": "code",
   "execution_count": 28,
   "metadata": {},
   "outputs": [],
   "source": [
    "# Load the trained model\n",
    "model_name = \"chess_classifier_best\"\n",
    "model_path = os.path.join(\"models_wip\", f\"{model_name}.keras\")\n",
    "model = tf.keras.models.load_model(model_path)"
   ]
  },
  {
   "cell_type": "code",
   "execution_count": 32,
   "metadata": {},
   "outputs": [],
   "source": [
    "# Parameters\n",
    "img_width, img_height = 224, 224\n",
    "\n",
    "# Class labels as per your training data\n",
    "class_labels = [\n",
    "    \"b_bishop\",\n",
    "    \"b_king\",\n",
    "    \"b_knight\",\n",
    "    \"b_pawn\",\n",
    "    \"b_queen\",\n",
    "    \"b_rook\",\n",
    "    \"empty\",\n",
    "    \"w_bishop\",\n",
    "    \"w_king\",\n",
    "    \"w_knight\",\n",
    "    \"w_pawn\",\n",
    "    \"w_queen\",\n",
    "    \"w_rook\",\n",
    "]\n",
    "\n",
    "\n",
    "def preprocess_image(image_path):\n",
    "    img = load_img(image_path, target_size=(img_width, img_height))\n",
    "    img_array = img_to_array(img)\n",
    "    img_array = np.expand_dims(img_array, axis=0)\n",
    "    img_array = img_array / 255.0  # Rescale as done during training\n",
    "    return img_array\n",
    "\n",
    "\n",
    "def predict_image(image_path, model):\n",
    "    # Preprocess the image\n",
    "    img_array = preprocess_image(image_path)\n",
    "\n",
    "    # Make predictions\n",
    "    predictions = model.predict(img_array)\n",
    "\n",
    "    # Get the class with the highest probability\n",
    "    predicted_class = np.argmax(predictions, axis=1)[0]\n",
    "\n",
    "    return predicted_class, predictions"
   ]
  },
  {
   "cell_type": "code",
   "execution_count": 33,
   "metadata": {},
   "outputs": [
    {
     "name": "stdout",
     "output_type": "stream",
     "text": [
      "\u001b[1m1/1\u001b[0m \u001b[32m━━━━━━━━━━━━━━━━━━━━\u001b[0m\u001b[37m\u001b[0m \u001b[1m0s\u001b[0m 129ms/step\n",
      "Predicted Class: empty\n",
      "Prediction Probabilities: [[5.6999209e-08 1.5515631e-08 7.8906474e-08 5.3908599e-07 2.1799524e-08\n",
      "  2.4620408e-07 9.9999881e-01 3.0470018e-10 1.2145221e-10 7.2476102e-11\n",
      "  9.7877191e-08 2.1053637e-08 3.2399520e-08]]\n"
     ]
    }
   ],
   "source": [
    "test_image_path = \"dataset/test/empty/augmented_0a3f4b665e8448dd89964777d2316bae.png\"\n",
    "predicted_class, predictions = predict_image(test_image_path, model)\n",
    "\n",
    "print(f\"Predicted Class: {class_labels[predicted_class]}\")\n",
    "print(f\"Prediction Probabilities: {predictions}\")"
   ]
  },
  {
   "cell_type": "code",
   "execution_count": null,
   "metadata": {},
   "outputs": [],
   "source": []
  }
 ],
 "metadata": {
  "kernelspec": {
   "display_name": ".venv",
   "language": "python",
   "name": "python3"
  },
  "language_info": {
   "codemirror_mode": {
    "name": "ipython",
    "version": 3
   },
   "file_extension": ".py",
   "mimetype": "text/x-python",
   "name": "python",
   "nbconvert_exporter": "python",
   "pygments_lexer": "ipython3",
   "version": "3.11.9"
  }
 },
 "nbformat": 4,
 "nbformat_minor": 2
}
